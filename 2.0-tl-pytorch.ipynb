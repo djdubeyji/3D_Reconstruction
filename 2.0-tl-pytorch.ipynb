{
 "cells": [
  {
   "cell_type": "markdown",
   "metadata": {},
   "source": [
    "# Exercise 3 Submitted for Pranjal Sharma, Alper Daggez, Deniz Gaiser and Anthony Akpenyi"
   ]
  },
  {
   "cell_type": "markdown",
   "metadata": {},
   "source": [
    "**Please Note**: We updated the requirements.txt\n",
    "\n",
    "Please install the new requirements before editing this exercise."
   ]
  },
  {
   "cell_type": "markdown",
   "metadata": {},
   "source": [
    "## Import packages"
   ]
  },
  {
   "cell_type": "code",
   "execution_count": 2,
   "metadata": {},
   "outputs": [
    {
     "name": "stdout",
     "output_type": "stream",
     "text": [
      "Intel MKL WARNING: Support of Intel(R) Streaming SIMD Extensions 4.2 (Intel(R) SSE4.2) enabled only processors has been deprecated. Intel oneAPI Math Kernel Library 2025.0 will require Intel(R) Advanced Vector Extensions (Intel(R) AVX) instructions.\n",
      "Intel MKL WARNING: Support of Intel(R) Streaming SIMD Extensions 4.2 (Intel(R) SSE4.2) enabled only processors has been deprecated. Intel oneAPI Math Kernel Library 2025.0 will require Intel(R) Advanced Vector Extensions (Intel(R) AVX) instructions.\n"
     ]
    }
   ],
   "source": [
    "import os\n",
    "\n",
    "from vll.utils.download import download_mnist\n",
    "import numpy as np\n",
    "import matplotlib.pyplot as plt\n",
    "\n",
    "import skimage\n",
    "import skimage.io\n",
    "\n",
    "import torch\n",
    "import torch.nn.functional as F\n",
    "from torchvision import transforms\n",
    "\n",
    "from models.mnist.simple_cnn import Net"
   ]
  },
  {
   "cell_type": "markdown",
   "metadata": {},
   "source": [
    "## Task 1\n",
    "(2 points)\n",
    "\n",
    "In this task, you will learn some basic tensor operations using the PyTorch library.\n",
    "\n",
    "Reference for torch: https://pytorch.org/docs/stable/torch.html"
   ]
  },
  {
   "cell_type": "code",
   "execution_count": 3,
   "metadata": {},
   "outputs": [
    {
     "name": "stdout",
     "output_type": "stream",
     "text": [
      "[ 0  1  2  3  4  5  6  7  8  9 10 11 12 13 14 15 16 17 18 19]\n",
      "tensor([ 0,  1,  2,  3,  4,  5,  6,  7,  8,  9, 10, 11, 12, 13, 14, 15, 16, 17,\n",
      "        18, 19])\n",
      "tensor([ 0.0000,  0.6264,  0.5604,  1.4975,  3.2536,  2.2088,  0.9175,  1.4606,\n",
      "         3.3471,  6.1724,  1.8064,  7.0809,  7.8575,  7.9777,  5.4407,  2.8247,\n",
      "        11.3769, 10.6537, 17.6102, 15.7071])\n",
      "tensor([-1.0000, -0.3736, -0.4396,  0.4975,  2.2536,  1.2088, -0.0825,  0.4606,\n",
      "         2.3471,  5.1724,  0.8064,  6.0809,  6.8575,  6.9777,  4.4407,  1.8247,\n",
      "        10.3769,  9.6537, 16.6102, 14.7071])\n",
      "tensor(2.2536)\n",
      "tensor([-0., -0., -0., 0., 0., 0., -0., 0., 0., 0., 0., 0., 0., 0., 0., 0., 0., 0., 0., 0.])\n"
     ]
    }
   ],
   "source": [
    "# Create a numpy array that looks like this: [0, 1, 2, ..., 19]\n",
    "arr = np.arange(0,20)\n",
    "print(arr)\n",
    "# Convert the numpy array to a torch tensor\n",
    "tensor = torch.tensor(arr)\n",
    "print(tensor)\n",
    "\n",
    "# Create a tensor that contains random numbers.\n",
    "# It should have the same size like the numpy array.\n",
    "# Multiply it with the previous tensor.\n",
    "rand_tensor = torch.rand(20)\n",
    "tensor = torch.mul(tensor,rand_tensor)\n",
    "print(tensor)\n",
    "\n",
    "# Create a tensor that contains only 1s.\n",
    "# It should have the same size like the numpy array.\n",
    "# Substract it from the previous tensor.\n",
    "tensor = tensor - torch.full((20,),1)\n",
    "print(tensor)\n",
    "\n",
    "# Get the 5th element using a index.\n",
    "element = tensor[4]\n",
    "print(element)\n",
    "\n",
    "# Create a tensor that contains only 0s.\n",
    "# It should have the same size like the numpy array.\n",
    "# Multiply it with the previous tensor without any assignment (in place).\n",
    "print(torch.mul(tensor, torch.full((20,),0)))"
   ]
  },
  {
   "cell_type": "code",
   "execution_count": 21,
   "metadata": {},
   "outputs": [
    {
     "name": "stdout",
     "output_type": "stream",
     "text": [
      "torch.Size([512, 512, 3])\n",
      "torch.Size([1, 786432])\n",
      "1\n",
      "tensor([[183, 194, 118,  ..., 221, 237, 162]], dtype=torch.uint8)\n",
      "torch.Size([1, 786432])\n",
      "torch.Size([1, 786432])\n",
      "torch.Size([512, 512, 3])\n",
      "tensor(91404741)\n",
      "tensor(116.2271)\n",
      "tensor(255.)\n"
     ]
    }
   ],
   "source": [
    "# Load the image from the last exercise as RGB image.\n",
    "image = skimage.io.imread(\"data/pepo.jpg\")\n",
    "\n",
    "# Convert the image to a tensor\n",
    "image = torch.tensor(image)\n",
    "# Print its shape\n",
    "\n",
    "print(image.shape)\n",
    "original_shape = image.shape\n",
    "\n",
    "# Flatten the image\n",
    "image = image.view(-1, 512*512*3)\n",
    "print(image.shape)\n",
    "print(len(image))\n",
    "print(image)\n",
    "# Add another dimension resulting in a 1x78643 tensor\n",
    "\n",
    "image = image[None,:,None]\n",
    "image = torch.reshape(image, (1, 786432))\n",
    "print(image.shape)\n",
    "\n",
    "# Revert the last action\n",
    "image.view(-1)\n",
    "print(image.shape)\n",
    "\n",
    "# Reshape the tensor, so that it has the original 2D dimensions\n",
    "image = image.view(original_shape)\n",
    "print(image.shape)\n",
    "\n",
    "# Calculate the sum, mean and max of the tensor\n",
    "print(torch.sum(image))\n",
    "print(image.float().mean())\n",
    "print(image.float().max())"
   ]
  },
  {
   "cell_type": "markdown",
   "metadata": {},
   "source": [
    "## Task 2\n",
    "(2 points)\n",
    "\n",
    "Use Autograd to perform operations on a tensor and output then gradients."
   ]
  },
  {
   "cell_type": "code",
   "execution_count": 92,
   "metadata": {},
   "outputs": [
    {
     "name": "stdout",
     "output_type": "stream",
     "text": [
      "tensor([[0.0451, 0.1978],\n",
      "        [0.3840, 0.0834]], requires_grad=True)\n",
      "tensor([[2.0451, 2.1978],\n",
      "        [2.3840, 2.0834]], grad_fn=<AddBackward0>)\n",
      "tensor([[4.1823, 4.8303],\n",
      "        [5.6833, 4.3408]], grad_fn=<PowBackward0>)\n",
      "tensor(4.7592, grad_fn=<MeanBackward0>)\n",
      "tensor([[1.0225, 1.0989],\n",
      "        [1.1920, 1.0417]])\n",
      "False\n",
      "tensor(4.7592, grad_fn=<MeanBackward0>)\n",
      "tensor(4.7592)\n"
     ]
    }
   ],
   "source": [
    "# Create a random 2x2 tensor which requires gradients\n",
    "x = torch.rand(2,2, requires_grad=True)\n",
    "\n",
    "print(x)\n",
    "\n",
    "# Create another tensor by adding 2.0\n",
    "y = x + 2.0\n",
    "print(y)\n",
    "\n",
    "# Create a third tensor z = y^2\n",
    "z = y ** 2\n",
    "print(z)\n",
    "\n",
    "# Compute out as the mean of values in z\n",
    "out = torch.mean(z)\n",
    "print(out)\n",
    "\n",
    "# Perform back propagation on out\n",
    "out.backward()\n",
    "\n",
    "# Print the gradients dout/dx\n",
    "gradient = x.grad\n",
    "print(gradient)\n",
    "\n",
    "# Create a copy of y whithout gradients\n",
    "y2 = y.detach()\n",
    "print(y2.requires_grad)\n",
    "\n",
    "# Perform the mean operation on z\n",
    "\n",
    "print(torch.mean(z))\n",
    "# with gradients globally disabled\n",
    "with torch.no_grad():\n",
    "    print(torch.mean(z))"
   ]
  },
  {
   "cell_type": "markdown",
   "metadata": {},
   "source": [
    "## Task 3\n",
    "(3 points)\n",
    "\n",
    "Implement a Dataset class for MNIST."
   ]
  },
  {
   "cell_type": "code",
   "execution_count": 52,
   "metadata": {},
   "outputs": [
    {
     "name": "stdout",
     "output_type": "stream",
     "text": [
      "Downloading mnist.tar.gz\n",
      "Extract mnist.tar.gz\n",
      "Done!\n"
     ]
    }
   ],
   "source": [
    "# We first download the MNIST dataset\n",
    "download_mnist()"
   ]
  },
  {
   "cell_type": "code",
   "execution_count": 96,
   "metadata": {},
   "outputs": [],
   "source": [
    "class MNIST:\n",
    "    \"\"\"\n",
    "    Dataset class for MNIST\n",
    "    \"\"\"\n",
    "\n",
    "    def __init__(self, root, transform=None):\n",
    "        \"\"\"\n",
    "        root -- path to either \"training\" or \"testing\"\n",
    "        \n",
    "        transform -- transform (from torchvision.transforms)\n",
    "                     to be applied to the data\n",
    "        \"\"\"\n",
    "        # save transforms\n",
    "        self.transform = transform\n",
    "        \n",
    "        # TODO: create a list of all subdirectories (named like the classes) \n",
    "        #       within the dataset root\n",
    "        dataset_root = 'data'\n",
    "        subdirectories = [d for d in os.listdir(dataset_root) if os.path.isdir(os.path.join(dataset_root, d))]\n",
    "\n",
    "        # 'subdirectories' now contains a list of subdirectory names within the 'dataset_root'\n",
    "                                                                                                                                                \n",
    "        print(subdirectories)\n",
    "        \n",
    "        # TODO: create a list of paths to all images\n",
    "        #       with the ground truth label\n",
    "        image_paths_with_labels = []\n",
    "        for root, dirs, files in os.walk(dataset_root):\n",
    "            for file in files:\n",
    "                if file.endswith(\".jpg\"): \n",
    "                    image_path = os.path.join(root, file)\n",
    "                    label = os.path.basename(root)\n",
    "                    image_paths_with_labels.append((image_path, label))\n",
    "\n",
    "    \n",
    "    def __len__(self):\n",
    "        \"\"\"\n",
    "        Returns the lenght of the dataset (number of images)\n",
    "        \"\"\"\n",
    "        # TODO: return the length (number of images) of the dataset\n",
    "        return image_path_with_labels.shape\n",
    "\n",
    "    def __getitem__(self, index):\n",
    "        \"\"\"\n",
    "        Loads and returns one image as floating point numpy array\n",
    "        \n",
    "        index -- image index in [0, self.__len__() - 1]\n",
    "        \"\"\"\n",
    "        # TODO: load the ith image as an numpy array (dtype=float32)\n",
    "        ith_image_path, ith_image_label = image_paths_with_labels[index]\n",
    "        ith_image = Image.open(ith_image_path)\n",
    "        ith_image_array = np.array(ith_image)\n",
    "        # TODO: apply transforms to the image (if there are any)\n",
    "        transform = transforms.Compose([ transforms.Resize((224, 224)), transforms.ToTensor(), ])\n",
    "        transformed_image = transform(ith_image)\n",
    "        # TODO: return a tuple (transformed image, ground truth)\n",
    "        my_tuple = [transformed_image,ith_image_label ]\n",
    "        return my_tuple"
   ]
  },
  {
   "cell_type": "markdown",
   "metadata": {},
   "source": [
    "## Task 4\n",
    "(3 points)\n",
    "\n",
    "You can now load a pretrained neural network model we provide.\n",
    "Your last task is to run the model on the MNIST test dataset, plot some example images with the predicted labels and compute the prediction accuracy."
   ]
  },
  {
   "cell_type": "code",
   "execution_count": 98,
   "metadata": {},
   "outputs": [
    {
     "ename": "IndentationError",
     "evalue": "expected an indented block (1458944782.py, line 45)",
     "output_type": "error",
     "traceback": [
      "\u001b[0;36m  Cell \u001b[0;32mIn[98], line 45\u001b[0;36m\u001b[0m\n\u001b[0;31m    elif i == 100:\u001b[0m\n\u001b[0m    ^\u001b[0m\n\u001b[0;31mIndentationError\u001b[0m\u001b[0;31m:\u001b[0m expected an indented block\n"
     ]
    }
   ],
   "source": [
    "def validate(model, data_loader):\n",
    "    # TODO: Create a 10x10 grid of subplots\n",
    "   \n",
    "    fig, axes = plt.subplots(10, 10, figsize=(10, 10))\n",
    "\n",
    "    for i in range(10):\n",
    "        for j in range(10):\n",
    "            axes[i, j].text(0.5, 0.5, f'Subplot ({i+1}, {j+1})', ha='center', va='center')\n",
    "\n",
    "\n",
    "    model.eval()\n",
    "    correct = 0 \n",
    "    \n",
    "    with torch.no_grad():\n",
    "        for i, item in enumerate(data_loader):\n",
    "            # TODO: unpack item into image and ground truth\n",
    "            #       and run network on them\n",
    "            \n",
    "            \n",
    "            # TODO: get class with highest probability\n",
    "            \n",
    "            \n",
    "            # TODO: check if prediction is correct\n",
    "            #       and add it to correct count\n",
    "            \n",
    "            \n",
    "            # plot the first 100 images\n",
    "            if i < 100:\n",
    "                # TODO: compute position of ith image in the grid\n",
    "                pos = __getitem__(1)\n",
    "                \n",
    "                # TODO: convert image tensor to numpy array\n",
    "                #       and normalize to [0, 1]\n",
    "                \n",
    "                \n",
    "                # TODO: make wrongly predicted images red\n",
    "                \n",
    "                \n",
    "                # TODO: disable axis and show image\n",
    "                \n",
    "                \n",
    "                # TODO: show the predicted class next to each image\n",
    "                \n",
    "            \n",
    "            elif i == 100:\n",
    "                plt.show()\n",
    "    \n",
    "    # TODO: compute and print the prediction accuracy in percent\n",
    "    \n",
    "\n",
    "# create a DataLoader using the implemented MNIST dataset class\n",
    "data_loader = torch.utils.data.DataLoader(\n",
    "    MNIST('data/mnist/testing',\n",
    "    transform=transforms.Compose([\n",
    "        transforms.ToTensor(),\n",
    "        transforms.Normalize((0.1307,), (0.3081,))\n",
    "    ])),\n",
    "    batch_size=1, shuffle=True)\n",
    "\n",
    "# create the neural network\n",
    "model = Net()\n",
    "\n",
    "# load the statedict from 'models/mnist/simple_cnn.pt'\n",
    "model.load_state_dict(torch.load('models/mnist/simple_cnn.pt'))\n",
    "\n",
    "# validate the model\n",
    "validate(model, data_loader)"
   ]
  },
  {
   "cell_type": "code",
   "execution_count": null,
   "metadata": {},
   "outputs": [],
   "source": []
  }
 ],
 "metadata": {
  "kernelspec": {
   "display_name": "Python 3 (ipykernel)",
   "language": "python",
   "name": "python3"
  },
  "language_info": {
   "codemirror_mode": {
    "name": "ipython",
    "version": 3
   },
   "file_extension": ".py",
   "mimetype": "text/x-python",
   "name": "python",
   "nbconvert_exporter": "python",
   "pygments_lexer": "ipython3",
   "version": "3.9.18"
  }
 },
 "nbformat": 4,
 "nbformat_minor": 4
}
